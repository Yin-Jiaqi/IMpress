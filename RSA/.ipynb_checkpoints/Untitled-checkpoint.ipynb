{
 "cells": [
  {
   "cell_type": "code",
   "execution_count": 9,
   "id": "73d5d804-e981-4de4-9c73-6f7cb5a18aa7",
   "metadata": {},
   "outputs": [],
   "source": [
    "import os\n",
    "import shutil"
   ]
  },
  {
   "cell_type": "code",
   "execution_count": 10,
   "id": "a50db8a2-cd63-4ebc-840e-42477be409db",
   "metadata": {},
   "outputs": [],
   "source": [
    "RSA_size='1024'\n",
    "assert(RSA_size in ['1024','512','2048','4096'])"
   ]
  },
  {
   "cell_type": "code",
   "execution_count": 14,
   "id": "e709f88d-c800-4e11-a8f8-ed314d7f03b5",
   "metadata": {},
   "outputs": [
    {
     "data": {
      "text/plain": [
       "'generate_file/test.hpp'"
      ]
     },
     "execution_count": 14,
     "metadata": {},
     "output_type": "execute_result"
    }
   ],
   "source": [
    "source=os.path.join('rsa-'+RSA_size,'test.cpp')\n",
    "target=os.path.join('generate_file','test.cpp')\n",
    "shutil.copyfile(source, target)\n",
    "source=os.path.join('rsa-'+RSA_size,'test.hpp')\n",
    "target=os.path.join('generate_file','test.hpp')\n",
    "shutil.copyfile(source, target)\n",
    "source=os.path.join('rsa-'+RSA_size,'main.cpp')\n",
    "target=os.path.join('generate_file','main.cpp')\n",
    "shutil.copyfile(source, target)"
   ]
  },
  {
   "cell_type": "code",
   "execution_count": 17,
   "id": "5af3f082-39e4-4be3-a6e3-fe54c07427ea",
   "metadata": {},
   "outputs": [],
   "source": [
    "test_type='self_defined'\n",
    "RADIX=256\n",
    "file=\"mul1024_1_level_karatsuba.cpp\"\n",
    "assert(test_type in ['default','self_defined'])\n",
    "if test_type=='default':\n",
    "    source=os.path.join('rsa-'+RSA_size,'default_modular.hpp')\n",
    "    target=os.path.join('generate_file','modular.hpp')\n",
    "    shutil.copyfile(source, target)\n",
    "else:\n",
    "    source=os.path.join('rsa-'+RSA_size,'modular.hpp')\n",
    "    target=os.path.join('generate_file','modular.hpp')\n",
    "    shutil.copyfile(source, target)"
   ]
  },
  {
   "cell_type": "code",
   "execution_count": null,
   "id": "eebe08e0-d915-47ad-824e-735271767ccb",
   "metadata": {},
   "outputs": [],
   "source": []
  }
 ],
 "metadata": {
  "kernelspec": {
   "display_name": "Python 3 (ipykernel)",
   "language": "python",
   "name": "python3"
  },
  "language_info": {
   "codemirror_mode": {
    "name": "ipython",
    "version": 3
   },
   "file_extension": ".py",
   "mimetype": "text/x-python",
   "name": "python",
   "nbconvert_exporter": "python",
   "pygments_lexer": "ipython3",
   "version": "3.9.12"
  }
 },
 "nbformat": 4,
 "nbformat_minor": 5
}
